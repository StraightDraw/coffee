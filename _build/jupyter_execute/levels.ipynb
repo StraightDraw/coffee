{
 "cells": [
  {
   "cell_type": "markdown",
   "id": "5f283081-390c-48ee-b2e9-d935584b6949",
   "metadata": {},
   "source": [
    "# Roast Levels\n",
    "\n"
   ]
  },
  {
   "cell_type": "markdown",
   "id": "29f5cd96-3221-4e5c-8524-6b37930d49ce",
   "metadata": {},
   "source": [
    "MTPak coffee is a supplier based in Shanghai, China. They are now focused on a ecologically friendly approach to the coffee industry with sustainable practices. They have a great guide to *coffee roasting basics* based upon a conversation with master roaster **Ishan Natalie** who has won competitions and worked with Stackbucks in Africa.\n",
    "\n",
    "[A Guide to Roasting Coffee](https://mtpak.coffee/2021/02/coffee-roasting-basics-guide-to-first-second-crack/)"
   ]
  },
  {
   "cell_type": "markdown",
   "id": "75a0058e-40fe-4258-a0e5-6292e415b752",
   "metadata": {},
   "source": [
    "The article also references material from **Scott Rao**, possibly the best-known and most well-respected roasting guru in the coffee world."
   ]
  },
  {
   "cell_type": "code",
   "execution_count": null,
   "id": "9781888d-873c-4a15-aa9f-d31cbd0aa3df",
   "metadata": {},
   "outputs": [],
   "source": []
  }
 ],
 "metadata": {
  "kernelspec": {
   "display_name": "Python 3 (ipykernel)",
   "language": "python",
   "name": "python3"
  },
  "language_info": {
   "codemirror_mode": {
    "name": "ipython",
    "version": 3
   },
   "file_extension": ".py",
   "mimetype": "text/x-python",
   "name": "python",
   "nbconvert_exporter": "python",
   "pygments_lexer": "ipython3",
   "version": "3.13.1"
  }
 },
 "nbformat": 4,
 "nbformat_minor": 5
}