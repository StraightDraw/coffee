{
 "cells": [
  {
   "cell_type": "markdown",
   "id": "f482b148-f71e-4fb4-ac44-23ac27ed466c",
   "metadata": {},
   "source": [
    "# The Home Roasting Enthusiast\n",
    "\n",
    "Coffee roasting is a hobby for many but a profession for hundreds of master roasters who work for Starbucks, Peet’s Coffee, Panera Bread, or other companies that produce coffee on a massive scale. Hundreds of small cafes and coffee shops throughout the country roast their own coffee on site.\n",
    "\n",
    "This set of notes is created by a hobbyist who has learned from many other hobbyists and several key professionals. The basics of coffee roasting are not difficult to understand or perform. Yet, the process is much more art than science. As our understanding of the roasting process deepens, we progress in our abilities to roast and create great tasting fresh coffee using beans from around the globe."
   ]
  },
  {
   "cell_type": "markdown",
   "id": "b8110779-5548-43a2-a0b8-c49415abfcd6",
   "metadata": {},
   "source": [
    "````{sidebar}\n",
    "```{image} Coffee_berry.jpg\n",
    ":alt: coffee bean\n",
    ":align: center\n",
    ":width: 225px\n",
    ":height: 300px\n",
    "```\n",
    "````"
   ]
  },
  {
   "cell_type": "markdown",
   "id": "c606a736-07e2-461d-9f0c-173fcce66204",
   "metadata": {},
   "source": [
    "## Surprising Sweetness\n",
    "\n",
    "To those who do not drink or like coffee, the natural sweetness of the beans may be surprising. In fact, the coffee \"beans\" are similar to the seed portion of a cherry plant. Like the pit of a plumb or peach, the coffee bean must be extracted from the pulp which is sweet, fruity and decilicious."
   ]
  },
  {
   "cell_type": "markdown",
   "id": "ee4193ed-6dac-41be-a08a-893b80d9455c",
   "metadata": {},
   "source": [
    "## Roasting\n",
    "\n",
    "To turn the green coffee beans into something that, when ground and brewed, will taste like coffee, we have to heat the beans to $400^\\circ$ to $450^\\circ$ Fahrenheit. The final temperature will depend upon the bean itself, the desired roast level (light, medium, dark) and the equipment being used.\n",
    "\n",
    "The roaster shown below is an inexpensive home roaster with controls for the heat and fan. The fan agitates the beans to keep them from melting together and help them to cook evenly. Controlling the roast is easy for the amateur as we can see the beans and smell the roast as it progresses."
   ]
  },
  {
   "cell_type": "markdown",
   "id": "7f48f040-131a-45bf-a87d-e5b5b7cac00f",
   "metadata": {},
   "source": [
    "```{image} roaster.png\n",
    ":alt: coffee bean\n",
    ":align: center\n",
    ":width: 150px\n",
    "```"
   ]
  },
  {
   "cell_type": "markdown",
   "id": "b961aca1-b017-4e0e-adbc-155ddd140a44",
   "metadata": {},
   "source": [
    "## Cracking\n",
    "\n",
    "During the roast, two audible cracks ring out somewhat like the sound of popcorn popping. The beans must be heated until first cracks is complete (or nearly so), or the result will not taste like coffee. If we stop the roast between first and second crack, we can produce light or medium roasts. Dark roasts occur at the onset of second crack, and some esppresso roasts do not end until deep into second crack or even after it ends."
   ]
  },
  {
   "cell_type": "markdown",
   "id": "88c215e9-c126-4199-a96a-40e168f5f2bf",
   "metadata": {},
   "source": [
    "## Sweetness and Roast Level\n",
    "\n",
    "Light roasts generally preserve more of the natural sweetness of the beans, a sweetness that fades slightly into medium roast levels. Some additional sweetness occurs as we enter the dark roast level, but the darker we roast the greater the chance of burnt beans that will taste approximately like charcoal."
   ]
  },
  {
   "cell_type": "markdown",
   "id": "6ea4bfb5-7bba-4976-bb35-398ea8981711",
   "metadata": {},
   "source": [
    "Hobbyists like myself enjoy roasting beans from different countries and climates all over the world and roasting them to different levels. The taste of the coffee can be surprising, and each different person will have different countries and coops which they like best. For instance, one of my favorites is Brazil Mogiana. While I still roast coffees from other countries and continents, I'm likely to know when those Brazilian beans will be in season and available."
   ]
  },
  {
   "cell_type": "markdown",
   "id": "eb2b071f-efe8-4726-bfa1-be022a47583e",
   "metadata": {},
   "source": [
    "## Presentation\n",
    "\n",
    "The presentation slides for a talk I gave at Math Club are [available for download here](https://faculty.ung.edu/rsinn/CoffeeMath.pdf)."
   ]
  }
 ],
 "metadata": {
  "kernelspec": {
   "display_name": "Python 3 (ipykernel)",
   "language": "python",
   "name": "python3"
  },
  "language_info": {
   "codemirror_mode": {
    "name": "ipython",
    "version": 3
   },
   "file_extension": ".py",
   "mimetype": "text/x-python",
   "name": "python",
   "nbconvert_exporter": "python",
   "pygments_lexer": "ipython3",
   "version": "3.13.1"
  }
 },
 "nbformat": 4,
 "nbformat_minor": 5
}