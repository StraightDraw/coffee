{
 "cells": [
  {
   "cell_type": "markdown",
   "id": "0f2cc135-3ac8-4434-b49b-362e0652fd69",
   "metadata": {},
   "source": [
    "# Resources"
   ]
  },
  {
   "cell_type": "markdown",
   "id": "82550cef-6c47-4335-b18d-012cb65d2b49",
   "metadata": {},
   "source": [
    "Those of us who roast coffee at home must order supplies and equipment somewhere. We need the essentials, and we often pick up some niche items that make our roasting easier:"
   ]
  },
  {
   "cell_type": "markdown",
   "id": "0fd83b3f-938d-498f-9b6a-6c6c9e7ba644",
   "metadata": {},
   "source": [
    "```{sidebar} **World of Coffee**\n",
    "To see all the possible coffee beans you can purchase from countries all around the world, check out the possibilities at [Burman's Coffee Traders](https://burmancoffee.com/product-category/green-coffee-beans/) for both photos and descriptions.\n",
    "```"
   ]
  },
  {
   "cell_type": "markdown",
   "id": "8d2771a6-9d94-4cf0-9a01-02aecf7b5591",
   "metadata": {},
   "source": [
    "- A Roaster\n",
    "- Green coffee beans (unroasted beans)\n",
    "- Grinders\n",
    "- Scales\n",
    "- Coffee bags\n",
    "- Books on roasting, brewing and storing coffee"
   ]
  },
  {
   "cell_type": "markdown",
   "id": "ae5ab0a9-6a77-4ae4-807c-0da1b6cec3b9",
   "metadata": {},
   "source": [
    "## Suppliers for Home Roasters\n",
    "\n",
    "My go-to suppliers are **Sweet Maria's** and **Burman Coffee Trader's**. Both sell to both businesses and hobbyists, and both carry a solid range of equipment and supplies for home roasters.\n",
    "\n",
    "My first introduction to home roasting occurred through [Sweet Maria's Coffee](https://www.sweetmarias.com/) where I bought my first roaster. I bought my first several packages of green coffee beans. They provide a hefty amount of information about the coffee beans they have for sale and the roasting products available in their online store. Their books section includes several great volumes that would benefit nearly any home coffee roaster. Sweet Maria's is located in Oakland, CA, yet their deliveries are quite competitive both in terms of time and price, even for those of us on the opposite coast.\n",
    "\n",
    "I soon added [Burman Coffee Traders](https://burmancoffee.com/) as a supplier as my knowledge expanded. I often compare pricing and selection between the two, and I have found that, generally speaking, both Sweet Maria's and Burman's have reasonable prices and a wide selection in their inventory. However, they sell somewhat different products and books. Burman's is a family-owned business based in Madison, WI. Note that prices for coffee at both shops are competitive, but the coffees I prefer to buy and roast tend to be slightly less expensive at Burman's. However, I still buy from Sweet Maria's, too, and both have a great selection of options from all over the world.\n",
    "\n",
    "Either of these suppliers would be a great starting place for anyone hoping to develop a home coffee roasting hobby. I learned about South American coffees through Sweet Maria's, but I learned more about African coffees through Burman's. Both are great companies that provide solid costumer support and a wide variety of resources for hobbyists."
   ]
  },
  {
   "cell_type": "markdown",
   "id": "184366ef-90e6-49f3-85d7-807e81bfcf36",
   "metadata": {},
   "source": [
    "## Podcasts\n",
    "\n",
    "Clearly, dozens of podcasts exist on the subject. I personally listen to the **Roast it Yourself** podcast on Spotify. Great roasters with great advice offer podcasts, and begin a search if find the format engaging and entertaining. I am providing a link to the **Roast it Yourself** podcast [home on YouTube](https://www.youtube.com/playlist?list=PLZEBSuRvM1t-bMVLoG59NroEc4OJno1_t)."
   ]
  },
  {
   "cell_type": "markdown",
   "id": "3ddde6e2-bf45-4623-8aff-1849e2aad16e",
   "metadata": {},
   "source": [
    "## Unique Shops\n",
    "\n",
    "The [Current Crop Roasting Shop](https://currentcroproasting.com/) in New Orleans had the innovative idea: let's allow folks to test drive a coffee roasting machine! Before buying it, you can try it? Yep, they have several models of roaster, and for a small fee you use their equipment to roast a batch of coffee beans right there on site.\n",
    "\n",
    "I will definitely be carving out 2-3 hours to spend there the next time I visit New Orleans. Maybe you should, as well."
   ]
  },
  {
   "cell_type": "code",
   "execution_count": null,
   "id": "9b39cb03-e723-4441-9a27-70d9608a261f",
   "metadata": {},
   "outputs": [],
   "source": []
  }
 ],
 "metadata": {
  "kernelspec": {
   "display_name": "Python 3 (ipykernel)",
   "language": "python",
   "name": "python3"
  },
  "language_info": {
   "codemirror_mode": {
    "name": "ipython",
    "version": 3
   },
   "file_extension": ".py",
   "mimetype": "text/x-python",
   "name": "python",
   "nbconvert_exporter": "python",
   "pygments_lexer": "ipython3",
   "version": "3.13.1"
  }
 },
 "nbformat": 4,
 "nbformat_minor": 5
}